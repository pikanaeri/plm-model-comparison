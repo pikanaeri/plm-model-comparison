{
  "nbformat": 4,
  "nbformat_minor": 0,
  "metadata": {
    "colab": {
      "provenance": [],
      "authorship_tag": "ABX9TyPGmpOedHF9OUXr/lB5kknM",
      "include_colab_link": true
    },
    "kernelspec": {
      "name": "python3",
      "display_name": "Python 3"
    },
    "language_info": {
      "name": "python"
    }
  },
  "cells": [
    {
      "cell_type": "markdown",
      "metadata": {
        "id": "view-in-github",
        "colab_type": "text"
      },
      "source": [
        "<a href=\"https://colab.research.google.com/github/pikanaeri/plm-model-comparison/blob/main/efam-performance/EFAM_Embedding_EsmC.ipynb\" target=\"_parent\"><img src=\"https://colab.research.google.com/assets/colab-badge.svg\" alt=\"Open In Colab\"/></a>"
      ]
    },
    {
      "cell_type": "markdown",
      "source": [
        "#Starting Procedure (Computer Setup)"
      ],
      "metadata": {
        "id": "0yJtlb9Chf5z"
      }
    },
    {
      "cell_type": "code",
      "execution_count": null,
      "metadata": {
        "id": "WEjCIiCIP9ov"
      },
      "outputs": [],
      "source": [
        "sudo apt-get update -qq\n",
        "sudo apt-get install -y tmux\n",
        "tmux"
      ]
    },
    {
      "cell_type": "code",
      "execution_count": null,
      "metadata": {
        "id": "jGsgDO0RP9ow"
      },
      "outputs": [],
      "source": [
        "sudo apt-get update\n",
        "sudo apt-get install bzip2 libxml2-dev\n",
        "sudo apt upgrade\n",
        "sudo apt-get install wget\n",
        "wget https://repo.anaconda.com/archive/Anaconda3-2022.05-Linux-x86_64.sh\n",
        "bash Anaconda3-2022.05-Linux-x86_64.sh\n",
        "rm Anaconda3-2022.05-Linux-x86_64.sh"
      ]
    },
    {
      "cell_type": "code",
      "execution_count": null,
      "metadata": {
        "id": "XMREb6rkP9ow"
      },
      "outputs": [],
      "source": [
        "sudo fallocate -l 15G /swapfile\n",
        "sudo chmod 600 /swapfile\n",
        "ls -lh /swapfile\n",
        "sudo mkswap /swapfile\n",
        "sudo swapon /swapfile\n",
        "\n",
        "#@markdown Append \"/swapfile swap swap defaults 0 0\" to the /etc/fstab file using a text editor of your choice\n",
        "sudo nano /etc/fstab\n",
        "\n",
        "/swapfile swap swap defaults 0 0"
      ]
    },
    {
      "cell_type": "code",
      "execution_count": null,
      "metadata": {
        "id": "opDDkvUhP9ox",
        "colab": {
          "base_uri": "https://localhost:8080/",
          "height": 106
        },
        "outputId": "29e127da-f45b-4f61-c416-63eaf11bec6d"
      },
      "outputs": [
        {
          "output_type": "error",
          "ename": "SyntaxError",
          "evalue": "invalid syntax (<ipython-input-1-3b0e3c477eff>, line 1)",
          "traceback": [
            "\u001b[0;36m  File \u001b[0;32m\"<ipython-input-1-3b0e3c477eff>\"\u001b[0;36m, line \u001b[0;32m1\u001b[0m\n\u001b[0;31m    sudo apt-get install git\u001b[0m\n\u001b[0m         ^\u001b[0m\n\u001b[0;31mSyntaxError\u001b[0m\u001b[0;31m:\u001b[0m invalid syntax\n"
          ]
        }
      ],
      "source": [
        "sudo apt-get install git\n",
        "sudo apt install python3-pip\n",
        "\n",
        "python3 --version\n",
        "pip3 --version\n",
        "\n",
        "gsutil cp -r gs://plm-model-comparison/ .\n",
        "\n",
        "mkdir final_embeddings"
      ]
    },
    {
      "cell_type": "code",
      "execution_count": null,
      "metadata": {
        "colab": {
          "base_uri": "https://localhost:8080/"
        },
        "outputId": "3ac54082-d83a-4d86-d1cd-98e8ff4cd1cf",
        "id": "LoejAOqIP9ox"
      },
      "outputs": [
        {
          "output_type": "stream",
          "name": "stdout",
          "text": [
            "Requirement already satisfied: transformers in /usr/local/lib/python3.10/dist-packages (4.42.4)\n",
            "Requirement already satisfied: filelock in /usr/local/lib/python3.10/dist-packages (from transformers) (3.15.4)\n",
            "Requirement already satisfied: huggingface-hub<1.0,>=0.23.2 in /usr/local/lib/python3.10/dist-packages (from transformers) (0.23.5)\n",
            "Requirement already satisfied: numpy<2.0,>=1.17 in /usr/local/lib/python3.10/dist-packages (from transformers) (1.26.4)\n",
            "Requirement already satisfied: packaging>=20.0 in /usr/local/lib/python3.10/dist-packages (from transformers) (24.1)\n",
            "Requirement already satisfied: pyyaml>=5.1 in /usr/local/lib/python3.10/dist-packages (from transformers) (6.0.2)\n",
            "Requirement already satisfied: regex!=2019.12.17 in /usr/local/lib/python3.10/dist-packages (from transformers) (2024.5.15)\n",
            "Requirement already satisfied: requests in /usr/local/lib/python3.10/dist-packages (from transformers) (2.32.3)\n",
            "Requirement already satisfied: safetensors>=0.4.1 in /usr/local/lib/python3.10/dist-packages (from transformers) (0.4.4)\n",
            "Requirement already satisfied: tokenizers<0.20,>=0.19 in /usr/local/lib/python3.10/dist-packages (from transformers) (0.19.1)\n",
            "Requirement already satisfied: tqdm>=4.27 in /usr/local/lib/python3.10/dist-packages (from transformers) (4.66.5)\n",
            "Requirement already satisfied: fsspec>=2023.5.0 in /usr/local/lib/python3.10/dist-packages (from huggingface-hub<1.0,>=0.23.2->transformers) (2024.6.1)\n",
            "Requirement already satisfied: typing-extensions>=3.7.4.3 in /usr/local/lib/python3.10/dist-packages (from huggingface-hub<1.0,>=0.23.2->transformers) (4.12.2)\n",
            "Requirement already satisfied: charset-normalizer<4,>=2 in /usr/local/lib/python3.10/dist-packages (from requests->transformers) (3.3.2)\n",
            "Requirement already satisfied: idna<4,>=2.5 in /usr/local/lib/python3.10/dist-packages (from requests->transformers) (3.7)\n",
            "Requirement already satisfied: urllib3<3,>=1.21.1 in /usr/local/lib/python3.10/dist-packages (from requests->transformers) (2.0.7)\n",
            "Requirement already satisfied: certifi>=2017.4.17 in /usr/local/lib/python3.10/dist-packages (from requests->transformers) (2024.7.4)\n",
            "Looking in indexes: https://pypi.org/simple, https://download.pytorch.org/whl/cu116\n",
            "Requirement already satisfied: torch in /usr/local/lib/python3.10/dist-packages (2.3.1+cu121)\n",
            "Requirement already satisfied: torchvision in /usr/local/lib/python3.10/dist-packages (0.18.1+cu121)\n",
            "Requirement already satisfied: torchaudio in /usr/local/lib/python3.10/dist-packages (2.3.1+cu121)\n",
            "Requirement already satisfied: transformers in /usr/local/lib/python3.10/dist-packages (4.42.4)\n",
            "Requirement already satisfied: sentencepiece in /usr/local/lib/python3.10/dist-packages (0.1.99)\n",
            "Requirement already satisfied: accelerate in /usr/local/lib/python3.10/dist-packages (0.32.1)\n",
            "Requirement already satisfied: filelock in /usr/local/lib/python3.10/dist-packages (from torch) (3.15.4)\n",
            "Requirement already satisfied: typing-extensions>=4.8.0 in /usr/local/lib/python3.10/dist-packages (from torch) (4.12.2)\n",
            "Requirement already satisfied: sympy in /usr/local/lib/python3.10/dist-packages (from torch) (1.13.1)\n",
            "Requirement already satisfied: networkx in /usr/local/lib/python3.10/dist-packages (from torch) (3.3)\n",
            "Requirement already satisfied: jinja2 in /usr/local/lib/python3.10/dist-packages (from torch) (3.1.4)\n",
            "Requirement already satisfied: fsspec in /usr/local/lib/python3.10/dist-packages (from torch) (2024.6.1)\n",
            "Requirement already satisfied: nvidia-cuda-nvrtc-cu12==12.1.105 in /usr/local/lib/python3.10/dist-packages (from torch) (12.1.105)\n",
            "Requirement already satisfied: nvidia-cuda-runtime-cu12==12.1.105 in /usr/local/lib/python3.10/dist-packages (from torch) (12.1.105)\n",
            "Requirement already satisfied: nvidia-cuda-cupti-cu12==12.1.105 in /usr/local/lib/python3.10/dist-packages (from torch) (12.1.105)\n",
            "Requirement already satisfied: nvidia-cudnn-cu12==8.9.2.26 in /usr/local/lib/python3.10/dist-packages (from torch) (8.9.2.26)\n",
            "Requirement already satisfied: nvidia-cublas-cu12==12.1.3.1 in /usr/local/lib/python3.10/dist-packages (from torch) (12.1.3.1)\n",
            "Requirement already satisfied: nvidia-cufft-cu12==11.0.2.54 in /usr/local/lib/python3.10/dist-packages (from torch) (11.0.2.54)\n",
            "Requirement already satisfied: nvidia-curand-cu12==10.3.2.106 in /usr/local/lib/python3.10/dist-packages (from torch) (10.3.2.106)\n",
            "Requirement already satisfied: nvidia-cusolver-cu12==11.4.5.107 in /usr/local/lib/python3.10/dist-packages (from torch) (11.4.5.107)\n",
            "Requirement already satisfied: nvidia-cusparse-cu12==12.1.0.106 in /usr/local/lib/python3.10/dist-packages (from torch) (12.1.0.106)\n",
            "Requirement already satisfied: nvidia-nccl-cu12==2.20.5 in /usr/local/lib/python3.10/dist-packages (from torch) (2.20.5)\n",
            "Requirement already satisfied: nvidia-nvtx-cu12==12.1.105 in /usr/local/lib/python3.10/dist-packages (from torch) (12.1.105)\n",
            "Requirement already satisfied: triton==2.3.1 in /usr/local/lib/python3.10/dist-packages (from torch) (2.3.1)\n",
            "Requirement already satisfied: nvidia-nvjitlink-cu12 in /usr/local/lib/python3.10/dist-packages (from nvidia-cusolver-cu12==11.4.5.107->torch) (12.6.20)\n",
            "Requirement already satisfied: numpy in /usr/local/lib/python3.10/dist-packages (from torchvision) (1.26.4)\n",
            "Requirement already satisfied: pillow!=8.3.*,>=5.3.0 in /usr/local/lib/python3.10/dist-packages (from torchvision) (9.4.0)\n",
            "Requirement already satisfied: huggingface-hub<1.0,>=0.23.2 in /usr/local/lib/python3.10/dist-packages (from transformers) (0.23.5)\n",
            "Requirement already satisfied: packaging>=20.0 in /usr/local/lib/python3.10/dist-packages (from transformers) (24.1)\n",
            "Requirement already satisfied: pyyaml>=5.1 in /usr/local/lib/python3.10/dist-packages (from transformers) (6.0.2)\n",
            "Requirement already satisfied: regex!=2019.12.17 in /usr/local/lib/python3.10/dist-packages (from transformers) (2024.5.15)\n",
            "Requirement already satisfied: requests in /usr/local/lib/python3.10/dist-packages (from transformers) (2.32.3)\n",
            "Requirement already satisfied: safetensors>=0.4.1 in /usr/local/lib/python3.10/dist-packages (from transformers) (0.4.4)\n",
            "Requirement already satisfied: tokenizers<0.20,>=0.19 in /usr/local/lib/python3.10/dist-packages (from transformers) (0.19.1)\n",
            "Requirement already satisfied: tqdm>=4.27 in /usr/local/lib/python3.10/dist-packages (from transformers) (4.66.5)\n",
            "Requirement already satisfied: psutil in /usr/local/lib/python3.10/dist-packages (from accelerate) (5.9.5)\n",
            "Requirement already satisfied: MarkupSafe>=2.0 in /usr/local/lib/python3.10/dist-packages (from jinja2->torch) (2.1.5)\n",
            "Requirement already satisfied: charset-normalizer<4,>=2 in /usr/local/lib/python3.10/dist-packages (from requests->transformers) (3.3.2)\n",
            "Requirement already satisfied: idna<4,>=2.5 in /usr/local/lib/python3.10/dist-packages (from requests->transformers) (3.7)\n",
            "Requirement already satisfied: urllib3<3,>=1.21.1 in /usr/local/lib/python3.10/dist-packages (from requests->transformers) (2.0.7)\n",
            "Requirement already satisfied: certifi>=2017.4.17 in /usr/local/lib/python3.10/dist-packages (from requests->transformers) (2024.7.4)\n",
            "Requirement already satisfied: mpmath<1.4,>=1.1.0 in /usr/local/lib/python3.10/dist-packages (from sympy->torch) (1.3.0)\n"
          ]
        }
      ],
      "source": [
        "!pip install transformers\n",
        "!pip3 install torch torchvision torchaudio transformers sentencepiece accelerate --extra-index-url https://download.pytorch.org/whl/cu116"
      ]
    },
    {
      "cell_type": "markdown",
      "source": [
        "##Embedding using EFAM"
      ],
      "metadata": {
        "id": "obRRBLuribPM"
      }
    },
    {
      "cell_type": "code",
      "source": [
        "from esm.models.esmc import ESMC\n",
        "from esm.sdk.api import ESMProtein, LogitsConfig\n",
        "import torch\n",
        "import re\n",
        "import time\n",
        "import gc\n",
        "import numpy as np\n",
        "import pickle as pkl\n",
        "\n",
        "# In[1]:\n",
        "\n",
        "\n",
        "import pandas as pd\n",
        "\n",
        "\n",
        "# In[12]:\n",
        "\n",
        "\n",
        "x = pd.read_csv('efam_phrog_e10.csv', index_col=0)\n",
        "y = pd.read_csv('PHROG_index_revised_v4_10292022.csv', index_col=0)\n",
        "\n",
        "\n",
        "# In[18]:\n",
        "\n",
        "\n",
        "d = dict(zip(list(y.index), y['revised_category_v4']))\n",
        "\n",
        "\n",
        "# In[22]:\n",
        "\n",
        "\n",
        "x['label'] = [d[p] for p in x['phrog#']]\n",
        "\n",
        "\n",
        "# In[27]:\n",
        "\n",
        "\n",
        "xx = x[x['label'] != 'unknown function']\n",
        "\n",
        "\n",
        "# In[33]:\n",
        "\n",
        "\n",
        "len(set(xx['cluster']))\n",
        "\n",
        "print(len(set(xx['cluster'])))\n",
        "print(xx)"
      ],
      "metadata": {
        "id": "0qLE-KWeidyg"
      },
      "execution_count": null,
      "outputs": []
    },
    {
      "cell_type": "code",
      "source": [
        "#@title Creating model and setting device to CPU if available\n",
        "client = ESMC.from_pretrained(\"esmc_600m\").to(\"cuda\") # or \"cpu\""
      ],
      "metadata": {
        "id": "P2dZSWVdidyh"
      },
      "execution_count": null,
      "outputs": []
    },
    {
      "cell_type": "code",
      "execution_count": null,
      "metadata": {
        "colab": {
          "base_uri": "https://localhost:8080/",
          "height": 106
        },
        "outputId": "179e6fc4-e9b8-4b8b-b802-c6eb4f63c231",
        "id": "GijBmjQVidyh"
      },
      "outputs": [
        {
          "output_type": "error",
          "ename": "SyntaxError",
          "evalue": "unterminated string literal (detected at line 49) (<ipython-input-1-c88580dd61bd>, line 48)",
          "traceback": [
            "\u001b[0;36m  File \u001b[0;32m\"<ipython-input-1-c88580dd61bd>\"\u001b[0;36m, line \u001b[0;32m48\u001b[0m\n\u001b[0;31m    if line == '=]\\\u001b[0m\n\u001b[0m               ^\u001b[0m\n\u001b[0;31mSyntaxError\u001b[0m\u001b[0;31m:\u001b[0m unterminated string literal (detected at line 49)\n"
          ]
        }
      ],
      "source": [
        "#@title Embedding Families\n",
        "#1. Get sequences here\n",
        "def get_seqs(File_Name):\n",
        "  names = []\n",
        "  seqs = [] #should match up with the efam_phrog_e10 file\n",
        "  reader = open(File_Name, \"r\")\n",
        "  name = reader.readline().strip()\n",
        "  while True: #The sequences are broken up by new lines!!!\n",
        "    if name == '':\n",
        "      break\n",
        "    sequence = \"\"\n",
        "    read = reader.readline().strip()\n",
        "    while read != '' and read[0] != '>':\n",
        "      sequence += read\n",
        "      read = reader.readline().strip()\n",
        "    names.append(name[1:])\n",
        "    seqs.append(sequence)\n",
        "    name = read\n",
        "  reader.close()\n",
        "  return names, seqs\n",
        "\n",
        "\n",
        "names, seqs = get_seqs(\"dereplicated_filtered_proteins_efam_downloaded_10162022.faa\")\n",
        "\n",
        "\n",
        "#2. Embed families here\n",
        "\n",
        "def embed_family(cluster_name, max_sz=-1):\n",
        "  embeddings = []\n",
        "  nms = []\n",
        "  seq_nms = x[x['cluster']==cluster_name].index.tolist()\n",
        "  for i in seq_nms:\n",
        "    seqs[i] = seqs[i].upper()\n",
        "    print(seqs[i])\n",
        "    if max_sz == -1 or len(seqs[i]) <= max_sz:\n",
        "      nms.append(names[i])\n",
        "      protein = ESMProtein(sequence=seqs[i])\n",
        "      protein_tensor = client.encode(protein)\n",
        "      logits_output = client.logits(\n",
        "        protein_tensor, LogitsConfig(sequence=True, return_embeddings=True)\n",
        "      )\n",
        "      embeddings.append(np.mean(logits_output.embeddings[0].cpu().numpy(), axis=0))\n",
        "      gc.collect()\n",
        "      torch.cuda.empty_cache()\n",
        "  print(seq_nms)\n",
        "  print(embeddings)\n",
        "  pkl.dump(nms, open(f\"final_embeddings_uppercase/{cluster_name}.txt\", \"wb\"))\n",
        "  pkl.dump(embeddings, open(f\"final_embeddings_uppercase/{cluster_name}.pkl\", \"wb\"))\n",
        "  return nms, embeddings\n",
        "\n",
        "\n",
        "#Navigate PHROGs directory here\n",
        "def nav_dir(sz_cap):\n",
        "  dct = {}\n",
        "  clusters = sorted(set(xx['cluster']))\n",
        "  print(clusters)\n",
        "  for c in clusters:\n",
        "    print(\"embedding \", c)\n",
        "    s, e = embed_family(c, max_sz=sz_cap)\n",
        "    for i in range(len(s)):\n",
        "      dct[s[i]] = e[i]\n",
        "  f = open(\"identifier_to_vector_protbert_bdf_esmc_12112024.pkl\", \"wb\")\n",
        "  pkl.dump(dct, f)\n",
        "  f.close()\n",
        "\n",
        "print(\"beginning procedure\")\n",
        "nav_dir(sz_cap=5096)"
      ]
    }
  ]
}